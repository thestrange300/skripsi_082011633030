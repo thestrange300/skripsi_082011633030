{
 "cells": [
  {
   "cell_type": "code",
   "execution_count": 1,
   "metadata": {},
   "outputs": [],
   "source": [
    "import os\n",
    "import tensorflow as tf\n",
    "from tensorflow.keras.preprocessing.image import ImageDataGenerator\n",
    "from tensorflow.keras.applications import ResNet101V2\n",
    "from tensorflow.keras import layers, models, optimizers\n",
    "from tensorflow.keras.callbacks import EarlyStopping, LearningRateScheduler"
   ]
  },
  {
   "cell_type": "code",
   "execution_count": 2,
   "metadata": {},
   "outputs": [
    {
     "name": "stdout",
     "output_type": "stream",
     "text": [
      "Found 7364 images belonging to 4 classes.\n",
      "Found 920 images belonging to 4 classes.\n",
      "Found 924 images belonging to 4 classes.\n"
     ]
    }
   ],
   "source": [
    "# Specify the input image size for \n",
    "img_size = (224, 224)\n",
    "\n",
    "# Data Augmentation (commented out for comparison)\n",
    "# train_datagen = ImageDataGenerator(\n",
    "#     rescale=1./255,\n",
    "#     rotation_range=20,\n",
    "#     zoom_range=0.2,\n",
    "#     horizontal_flip=True\n",
    "# )\n",
    "\n",
    "train_datagen = ImageDataGenerator(rescale=1./255)\n",
    "val_datagen = ImageDataGenerator(rescale=1./255)\n",
    "test_datagen = ImageDataGenerator(rescale=1./255)\n",
    "\n",
    "# Set the batch size\n",
    "batch_size = 16\n",
    "\n",
    "# Specify the paths to your train, validation, and test data\n",
    "train_dir = 'D:\\\\Splitted Curated X-Ray Dataset\\\\train'\n",
    "val_dir = 'D:\\\\Splitted Curated X-Ray Dataset\\\\val'\n",
    "test_dir = 'D:\\\\Splitted Curated X-Ray Dataset\\\\test'\n",
    "\n",
    "# Flow training images in batches using train_datagen generator\n",
    "train_generator = train_datagen.flow_from_directory(\n",
    "    train_dir,\n",
    "    target_size=img_size,\n",
    "    batch_size=batch_size,\n",
    "    class_mode='categorical'\n",
    ")\n",
    "\n",
    "# Flow validation images in batches using val_datagen generator\n",
    "val_generator = val_datagen.flow_from_directory(\n",
    "    val_dir,\n",
    "    target_size=img_size,\n",
    "    batch_size=batch_size,\n",
    "    class_mode='categorical',\n",
    "\n",
    ")\n",
    "\n",
    "# Flow test images in batches using test_datagen generator\n",
    "test_generator = test_datagen.flow_from_directory(\n",
    "    test_dir,\n",
    "    target_size=img_size,\n",
    "    batch_size=1,\n",
    "    class_mode='categorical',\n",
    "    shuffle = False\n",
    ")"
   ]
  },
  {
   "cell_type": "code",
   "execution_count": 3,
   "metadata": {},
   "outputs": [
    {
     "name": "stdout",
     "output_type": "stream",
     "text": [
      "Downloading data from https://storage.googleapis.com/tensorflow/keras-applications/resnet/resnet101v2_weights_tf_dim_ordering_tf_kernels_notop.h5\n",
      "171317808/171317808 [==============================] - 47s 0us/step\n",
      "Model: \"sequential\"\n",
      "_________________________________________________________________\n",
      " Layer (type)                Output Shape              Param #   \n",
      "=================================================================\n",
      " resnet101v2 (Functional)    (None, 7, 7, 2048)        42626560  \n",
      "                                                                 \n",
      " flatten (Flatten)           (None, 100352)            0         \n",
      "                                                                 \n",
      " dense (Dense)               (None, 256)               25690368  \n",
      "                                                                 \n",
      " dropout (Dropout)           (None, 256)               0         \n",
      "                                                                 \n",
      " dense_1 (Dense)             (None, 4)                 1028      \n",
      "                                                                 \n",
      "=================================================================\n",
      "Total params: 68,317,956\n",
      "Trainable params: 68,220,292\n",
      "Non-trainable params: 97,664\n",
      "_________________________________________________________________\n"
     ]
    }
   ],
   "source": [
    "# Load the model\n",
    "base_model = ResNet101V2(weights='imagenet', include_top=False, input_shape=(224, 224, 3))\n",
    "\n",
    "# Create a new model on top\n",
    "model = models.Sequential()\n",
    "\n",
    "# Add the base model\n",
    "model.add(base_model)\n",
    "\n",
    "# Flatten the output layer to 1 dimension\n",
    "model.add(layers.Flatten())\n",
    "\n",
    "# Add a fully connected layer with 256 hidden units and ReLU activation\n",
    "model.add(layers.Dense(256, activation='relu'))\n",
    "\n",
    "# Add a dropout layer for regularization\n",
    "model.add(layers.Dropout(0.5))\n",
    "\n",
    "# Add the final output layer with 4 classes for classification\n",
    "model.add(layers.Dense(4, activation='softmax'))\n",
    "\n",
    "# Print the model summary\n",
    "model.summary()"
   ]
  },
  {
   "cell_type": "code",
   "execution_count": 4,
   "metadata": {},
   "outputs": [
    {
     "name": "stdout",
     "output_type": "stream",
     "text": [
      "Epoch 1/75\n",
      "460/460 [==============================] - 157s 313ms/step - loss: 1.8639 - accuracy: 0.4242 - val_loss: 1.3318 - val_accuracy: 0.3553 - lr: 0.0010\n",
      "Epoch 2/75\n",
      "460/460 [==============================] - 134s 291ms/step - loss: 1.8793 - accuracy: 0.4540 - val_loss: 1.5723 - val_accuracy: 0.5077 - lr: 9.9593e-04\n",
      "Epoch 3/75\n",
      "460/460 [==============================] - 135s 293ms/step - loss: 1.1215 - accuracy: 0.5361 - val_loss: 0.9841 - val_accuracy: 0.5888 - lr: 9.9187e-04\n",
      "Epoch 4/75\n",
      "460/460 [==============================] - 135s 293ms/step - loss: 0.8804 - accuracy: 0.6421 - val_loss: 0.7956 - val_accuracy: 0.6623 - lr: 9.8783e-04\n",
      "Epoch 5/75\n",
      "460/460 [==============================] - 135s 294ms/step - loss: 0.7473 - accuracy: 0.7016 - val_loss: 0.7988 - val_accuracy: 0.7094 - lr: 9.8380e-04\n",
      "Epoch 6/75\n",
      "460/460 [==============================] - 135s 294ms/step - loss: 0.7433 - accuracy: 0.7241 - val_loss: 0.5785 - val_accuracy: 0.7730 - lr: 9.7980e-04\n",
      "Epoch 7/75\n",
      "460/460 [==============================] - 134s 291ms/step - loss: 0.6042 - accuracy: 0.7575 - val_loss: 0.6406 - val_accuracy: 0.7357 - lr: 9.7580e-04\n",
      "Epoch 8/75\n",
      "460/460 [==============================] - 134s 291ms/step - loss: 0.5404 - accuracy: 0.7861 - val_loss: 0.4950 - val_accuracy: 0.8004 - lr: 9.7183e-04\n",
      "Epoch 9/75\n",
      "460/460 [==============================] - 133s 289ms/step - loss: 0.5742 - accuracy: 0.7825 - val_loss: 3.1508 - val_accuracy: 0.6711 - lr: 9.6787e-04\n",
      "Epoch 10/75\n",
      "460/460 [==============================] - 135s 293ms/step - loss: 0.9453 - accuracy: 0.7030 - val_loss: 47738.0781 - val_accuracy: 0.0954 - lr: 9.6393e-04\n",
      "Epoch 11/75\n",
      "460/460 [==============================] - 134s 291ms/step - loss: 1.3013 - accuracy: 0.5612 - val_loss: 0.9773 - val_accuracy: 0.6776 - lr: 9.6000e-04\n",
      "Epoch 12/75\n",
      "460/460 [==============================] - 133s 289ms/step - loss: 0.7426 - accuracy: 0.7165 - val_loss: 0.6165 - val_accuracy: 0.7314 - lr: 9.5609e-04\n",
      "Epoch 13/75\n",
      "460/460 [==============================] - 134s 291ms/step - loss: 0.6027 - accuracy: 0.7652 - val_loss: 0.5494 - val_accuracy: 0.7982 - lr: 9.5219e-04\n",
      "924/924 [==============================] - 22s 23ms/step - loss: 0.5306 - accuracy: 0.7900\n",
      "Test Loss: 0.5306\n",
      "Test Accuracy: 0.7900\n"
     ]
    }
   ],
   "source": [
    "# Define the initial learning rate and the learning rate schedule\n",
    "initial_learning_rate = 0.001\n",
    "lr_schedule = tf.keras.optimizers.schedules.ExponentialDecay(\n",
    "    initial_learning_rate, decay_steps=100000, decay_rate=0.96, staircase=True\n",
    ")\n",
    "\n",
    "# Define the optimizer with the learning rate schedule\n",
    "opt = optimizers.Adam(learning_rate=initial_learning_rate)\n",
    "\n",
    "# Compile the model\n",
    "model.compile(optimizer=opt, loss='categorical_crossentropy', metrics=['accuracy'])\n",
    "\n",
    "# Set up early stopping callback\n",
    "early_stop = EarlyStopping(monitor='val_loss', patience=5, restore_best_weights=True)\n",
    "\n",
    "# Define a custom learning rate scheduler function\n",
    "def custom_lr_schedule(epoch):\n",
    "    return initial_learning_rate * (0.96 ** (epoch / 10))\n",
    "\n",
    "# Set up LearningRateScheduler callback with the custom function\n",
    "lr_scheduler = LearningRateScheduler(custom_lr_schedule)\n",
    "\n",
    "# Train the model with the specified number of epochs\n",
    "history = model.fit(\n",
    "    train_generator,\n",
    "    steps_per_epoch=train_generator.samples // batch_size,\n",
    "    epochs=75,\n",
    "    validation_data=val_generator,\n",
    "    validation_steps=val_generator.samples // batch_size,\n",
    "    callbacks=[early_stop, lr_scheduler]\n",
    ")\n",
    "\n",
    "# Evaluate the model on the test set\n",
    "test_loss, test_accuracy = model.evaluate(test_generator, steps=len(test_generator))\n",
    "print(f'Test Loss: {test_loss:.4f}')\n",
    "print(f'Test Accuracy: {test_accuracy:.4f}')"
   ]
  },
  {
   "cell_type": "code",
   "execution_count": 5,
   "metadata": {},
   "outputs": [
    {
     "name": "stdout",
     "output_type": "stream",
     "text": [
      "924/924 [==============================] - 21s 21ms/step\n",
      "\n",
      "Classification Report:\n",
      "                     precision    recall  f1-score   support\n",
      "\n",
      "           COVID-19     0.9160    0.9302    0.9231       129\n",
      "             Normal     0.8970    0.9052    0.9011       327\n",
      "Pneumonia-Bacterial     0.7110    0.8173    0.7604       301\n",
      "    Pneumonia-Viral     0.5812    0.4072    0.4789       167\n",
      "\n",
      "           accuracy                         0.7900       924\n",
      "          macro avg     0.7763    0.7650    0.7659       924\n",
      "       weighted avg     0.7820    0.7900    0.7820       924\n",
      "\n"
     ]
    }
   ],
   "source": [
    "from sklearn.metrics import classification_report\n",
    "\n",
    "# Get predictions on the test set\n",
    "y_pred = model.predict(test_generator)\n",
    "y_true = test_generator.classes\n",
    "\n",
    "# Convert predictions to class labels\n",
    "y_pred_labels = tf.argmax(y_pred, axis=1)\n",
    "class_labels = list(test_generator.class_indices.keys())\n",
    "\n",
    "# Generate and print the classification report\n",
    "print(\"\\nClassification Report:\")\n",
    "print(classification_report(y_true, y_pred_labels, target_names=class_labels, digits=4))"
   ]
  }
 ],
 "metadata": {
  "kernelspec": {
   "display_name": "skripsi",
   "language": "python",
   "name": "python3"
  },
  "language_info": {
   "codemirror_mode": {
    "name": "ipython",
    "version": 3
   },
   "file_extension": ".py",
   "mimetype": "text/x-python",
   "name": "python",
   "nbconvert_exporter": "python",
   "pygments_lexer": "ipython3",
   "version": "3.10.13"
  }
 },
 "nbformat": 4,
 "nbformat_minor": 2
}
