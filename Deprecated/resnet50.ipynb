{
 "cells": [
  {
   "cell_type": "code",
   "execution_count": 10,
   "metadata": {},
   "outputs": [],
   "source": [
    "import os\n",
    "import tensorflow as tf\n",
    "from tensorflow.keras.preprocessing.image import ImageDataGenerator\n",
    "from tensorflow.keras.applications import ResNet50\n",
    "from tensorflow.keras import layers, models\n",
    "from sklearn.metrics import classification_report, confusion_matrix\n",
    "import numpy as np"
   ]
  },
  {
   "cell_type": "code",
   "execution_count": 6,
   "metadata": {},
   "outputs": [
    {
     "name": "stdout",
     "output_type": "stream",
     "text": [
      "Found 7367 images belonging to 4 classes.\n",
      "Found 1841 images belonging to 4 classes.\n"
     ]
    }
   ],
   "source": [
    "# Set your data directory and other parameters\n",
    "data_dir = \"D:/Curated X-Ray Dataset/\"\n",
    "batch_size = 32\n",
    "img_size = (224, 224)  # ResNet50 input size\n",
    "\n",
    "# Data augmentation and preprocessing\n",
    "datagen = ImageDataGenerator(rescale=1./255, validation_split=0.2)\n",
    "\n",
    "train_generator = datagen.flow_from_directory(\n",
    "    data_dir,\n",
    "    target_size=img_size,\n",
    "    batch_size=batch_size,\n",
    "    class_mode='categorical',\n",
    "    subset='training'\n",
    ")\n",
    "\n",
    "validation_generator = datagen.flow_from_directory(\n",
    "    data_dir,\n",
    "    target_size=img_size,\n",
    "    batch_size=batch_size,\n",
    "    class_mode='categorical',\n",
    "    subset='validation'\n",
    ")\n"
   ]
  },
  {
   "cell_type": "code",
   "execution_count": 7,
   "metadata": {},
   "outputs": [],
   "source": [
    "\n",
    "# Base model: ResNet50\n",
    "base_model = ResNet50(weights='imagenet', include_top=False, input_shape=(224, 224, 3))\n",
    "\n",
    "# Freeze the layers of the ResNet50 model\n",
    "for layer in base_model.layers:\n",
    "    layer.trainable = False\n",
    "\n",
    "# # Build the model on top of ResNet50\n",
    "# model = models.Sequential()\n",
    "# model.add(base_model)\n",
    "# model.add(layers.Flatten())\n",
    "# model.add(layers.Dense(256, activation='relu'))\n",
    "# model.add(layers.Dropout(0.5))\n",
    "# model.add(layers.Dense(4, activation='softmax'))  # Assuming 4 classes\n",
    "    \n",
    "# Flatten the output layer to 1 dimension\n",
    "x = layers.Flatten()(base_model.output)\n",
    "\n",
    "# Add a fully connected layer with softmax activation\n",
    "output = layers.Dense(4, activation='softmax')(x)  # Assuming 4 classes\n",
    "\n",
    "# Model without Added Layer\n",
    "model = models.Model(base_model.input, output)\n",
    "\n",
    "initial_learning_rate = 0.001\n",
    "lr_schedule = tf.keras.optimizers.schedules.ExponentialDecay(\n",
    "    initial_learning_rate, decay_steps=100000, decay_rate=0.96, staircase=True\n",
    ")\n",
    "\n",
    "model.compile(optimizer=tf.keras.optimizers.Adam(learning_rate=lr_schedule),\n",
    "              loss='categorical_crossentropy',\n",
    "              metrics=['accuracy'])\n"
   ]
  },
  {
   "cell_type": "code",
   "execution_count": 8,
   "metadata": {},
   "outputs": [
    {
     "name": "stdout",
     "output_type": "stream",
     "text": [
      "Epoch 1/10\n",
      "231/231 [==============================] - 104s 436ms/step - loss: 1.5099 - accuracy: 0.5605 - val_loss: 1.2096 - val_accuracy: 0.3938\n",
      "Epoch 2/10\n",
      "231/231 [==============================] - 69s 299ms/step - loss: 0.6827 - accuracy: 0.7216 - val_loss: 0.6567 - val_accuracy: 0.7420\n",
      "Epoch 3/10\n",
      "231/231 [==============================] - 69s 299ms/step - loss: 0.7134 - accuracy: 0.7212 - val_loss: 0.7283 - val_accuracy: 0.7518\n",
      "Epoch 4/10\n",
      "231/231 [==============================] - 72s 310ms/step - loss: 0.7113 - accuracy: 0.7387 - val_loss: 1.2050 - val_accuracy: 0.7262\n",
      "Epoch 5/10\n",
      "231/231 [==============================] - 70s 301ms/step - loss: 0.6632 - accuracy: 0.7509 - val_loss: 0.6087 - val_accuracy: 0.7740\n",
      "Epoch 6/10\n",
      "231/231 [==============================] - 69s 300ms/step - loss: 0.6488 - accuracy: 0.7524 - val_loss: 0.6587 - val_accuracy: 0.7290\n",
      "Epoch 7/10\n",
      "231/231 [==============================] - 69s 300ms/step - loss: 0.8694 - accuracy: 0.7311 - val_loss: 0.4222 - val_accuracy: 0.8365\n",
      "Epoch 8/10\n",
      "231/231 [==============================] - 72s 310ms/step - loss: 0.6615 - accuracy: 0.7592 - val_loss: 0.5649 - val_accuracy: 0.7990\n",
      "Epoch 9/10\n",
      "231/231 [==============================] - 71s 305ms/step - loss: 0.7203 - accuracy: 0.7615 - val_loss: 0.5469 - val_accuracy: 0.8017\n",
      "Epoch 10/10\n",
      "231/231 [==============================] - 69s 297ms/step - loss: 0.7449 - accuracy: 0.7536 - val_loss: 0.3902 - val_accuracy: 0.8550\n",
      "58/58 [==============================] - 14s 237ms/step - loss: 0.3903 - accuracy: 0.8550\n",
      "Validation Accuracy: 85.50%\n"
     ]
    }
   ],
   "source": [
    "\n",
    "# Train the model\n",
    "epochs = 10\n",
    "history = model.fit(\n",
    "    train_generator,\n",
    "    epochs=epochs,\n",
    "    validation_data=validation_generator\n",
    ")\n",
    "\n",
    "# Evaluate the model\n",
    "_, accuracy = model.evaluate(validation_generator)\n",
    "print(f\"Validation Accuracy: {accuracy * 100:.2f}%\")0"
   ]
  },
  {
   "cell_type": "code",
   "execution_count": 11,
   "metadata": {},
   "outputs": [
    {
     "name": "stdout",
     "output_type": "stream",
     "text": [
      "58/58 [==============================] - 14s 245ms/step\n",
      "Classification Report:\n",
      "                     precision    recall  f1-score   support\n",
      "\n",
      "           COVID-19       0.16      0.17      0.16       256\n",
      "             Normal       0.35      0.35      0.35       654\n",
      "Pneumonia-Bacterial       0.32      0.39      0.35       600\n",
      "    Pneumonia-Viral       0.19      0.11      0.14       331\n",
      "\n",
      "           accuracy                           0.29      1841\n",
      "          macro avg       0.25      0.25      0.25      1841\n",
      "       weighted avg       0.28      0.29      0.28      1841\n",
      "\n",
      "\n",
      "Confusion Matrix:\n",
      "[[ 43  91 105  17]\n",
      " [ 92 229 261  72]\n",
      " [ 85 227 231  57]\n",
      " [ 48 115 133  35]]\n"
     ]
    }
   ],
   "source": [
    "# Evaluate the model\n",
    "y_true = validation_generator.classes\n",
    "y_pred_probs = model.predict(validation_generator)\n",
    "y_pred = np.argmax(y_pred_probs, axis=1)\n",
    "\n",
    "# Classification report\n",
    "class_labels = list(validation_generator.class_indices.keys())\n",
    "print(\"Classification Report:\")\n",
    "print(classification_report(y_true, y_pred, target_names=class_labels))\n",
    "\n",
    "# Confusion Matrix\n",
    "conf_matrix = confusion_matrix(y_true, y_pred)\n",
    "print(\"\\nConfusion Matrix:\")\n",
    "print(conf_matrix)"
   ]
  }
 ],
 "metadata": {
  "kernelspec": {
   "display_name": "skripsi",
   "language": "python",
   "name": "python3"
  },
  "language_info": {
   "codemirror_mode": {
    "name": "ipython",
    "version": 3
   },
   "file_extension": ".py",
   "mimetype": "text/x-python",
   "name": "python",
   "nbconvert_exporter": "python",
   "pygments_lexer": "ipython3",
   "version": "3.10.13"
  }
 },
 "nbformat": 4,
 "nbformat_minor": 2
}
