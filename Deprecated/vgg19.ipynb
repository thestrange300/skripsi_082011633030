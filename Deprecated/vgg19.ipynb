{
 "cells": [
  {
   "cell_type": "code",
   "execution_count": 5,
   "metadata": {},
   "outputs": [],
   "source": [
    "import os\n",
    "import numpy as np\n",
    "import scipy\n",
    "import matplotlib.pyplot as plt\n",
    "import tensorflow as tf\n",
    "from tensorflow.keras.preprocessing.image import ImageDataGenerator\n",
    "from tensorflow.keras.applications import VGG19\n",
    "from tensorflow.keras import layers, models\n",
    "from sklearn.model_selection import train_test_split\n"
   ]
  },
  {
   "cell_type": "code",
   "execution_count": 6,
   "metadata": {},
   "outputs": [
    {
     "name": "stdout",
     "output_type": "stream",
     "text": [
      "Found 7367 images belonging to 4 classes.\n",
      "Found 1841 images belonging to 4 classes.\n"
     ]
    }
   ],
   "source": [
    "data_dir = \"D:/Curated X-Ray Dataset/\"\n",
    "batch_size = 16\n",
    "img_size = (224, 224)  # VGG16 input size\n",
    "\n",
    "datagen = ImageDataGenerator(rescale=1./255, validation_split=0.2)\n",
    "\n",
    "train_generator = datagen.flow_from_directory(\n",
    "    data_dir,\n",
    "    target_size=img_size,\n",
    "    batch_size=batch_size,\n",
    "    class_mode='categorical',\n",
    "    subset='training'\n",
    ")\n",
    "\n",
    "validation_generator = datagen.flow_from_directory(\n",
    "    data_dir,\n",
    "    target_size=img_size,\n",
    "    batch_size=batch_size,\n",
    "    class_mode='categorical',\n",
    "    subset='validation'\n",
    ")\n"
   ]
  },
  {
   "cell_type": "code",
   "execution_count": 7,
   "metadata": {},
   "outputs": [],
   "source": [
    "base_model = VGG19(weights='imagenet', include_top=False, input_shape=(224, 224, 3))\n",
    "\n",
    "for layer in base_model.layers:\n",
    "    layer.trainable = False"
   ]
  },
  {
   "cell_type": "code",
   "execution_count": 8,
   "metadata": {},
   "outputs": [],
   "source": [
    "# Flatten the output layer to 1 dimension\n",
    "x = layers.Flatten()(base_model.output)\n",
    "\n",
    "# Add a fully connected layer with softmax activation\n",
    "output = layers.Dense(4, activation='softmax')(x)  # Assuming 4 classes\n",
    "\n",
    "# Model without Added Layer\n",
    "model = models.Model(base_model.input, output)\n",
    "\n",
    "#Model with added layer\n",
    "# model = models.Sequential()\n",
    "# model.add(base_model)\n",
    "# model.add(layers.Flatten())\n",
    "# model.add(layers.Dense(256, activation='relu'))\n",
    "# model.add(layers.Dropout(0.5))\n",
    "# model.add(layers.Dense(4, activation='softmax'))  # Assuming 4 classes (Normal, Pneumonia-Viral, Pneumonia-Bacterial, COVID-19)\n",
    "\n",
    "\n",
    "initial_learning_rate = 0.001\n",
    "lr_schedule = tf.keras.optimizers.schedules.ExponentialDecay(\n",
    "    initial_learning_rate, decay_steps=100000, decay_rate=0.96, staircase=True\n",
    ")\n",
    "\n",
    "model.compile(optimizer=tf.keras.optimizers.Adam(learning_rate=lr_schedule),\n",
    "              loss='categorical_crossentropy',\n",
    "              metrics=['accuracy'])\n",
    "\n",
    "# Compile without LR Schedule\n",
    "# model.compile(optimizer='adam', loss='categorical_crossentropy', metrics=['accuracy'])\n",
    "\n",
    "# Train the Model\n",
    "epochs = 10  # You can adjust this based on your needs"
   ]
  },
  {
   "cell_type": "code",
   "execution_count": 9,
   "metadata": {},
   "outputs": [
    {
     "name": "stdout",
     "output_type": "stream",
     "text": [
      "Epoch 1/10\n",
      "461/461 [==============================] - 94s 186ms/step - loss: 0.6278 - accuracy: 0.7711 - val_loss: 0.2806 - val_accuracy: 0.8968\n",
      "Epoch 2/10\n",
      "461/461 [==============================] - 73s 159ms/step - loss: 0.4834 - accuracy: 0.8258 - val_loss: 0.4578 - val_accuracy: 0.8533\n",
      "Epoch 3/10\n",
      "461/461 [==============================] - 74s 161ms/step - loss: 0.3723 - accuracy: 0.8535 - val_loss: 0.7666 - val_accuracy: 0.7192\n",
      "Epoch 4/10\n",
      "461/461 [==============================] - 77s 167ms/step - loss: 0.3299 - accuracy: 0.8689 - val_loss: 0.3915 - val_accuracy: 0.8322\n",
      "Epoch 5/10\n",
      "461/461 [==============================] - 76s 165ms/step - loss: 0.2812 - accuracy: 0.8898 - val_loss: 0.3693 - val_accuracy: 0.8696\n",
      "Epoch 6/10\n",
      "461/461 [==============================] - 77s 167ms/step - loss: 0.2952 - accuracy: 0.8868 - val_loss: 0.4241 - val_accuracy: 0.8653\n",
      "Epoch 7/10\n",
      "461/461 [==============================] - 76s 164ms/step - loss: 0.1918 - accuracy: 0.9211 - val_loss: 0.3039 - val_accuracy: 0.8772\n",
      "Epoch 8/10\n",
      "461/461 [==============================] - 76s 165ms/step - loss: 0.2069 - accuracy: 0.9173 - val_loss: 0.3570 - val_accuracy: 0.8631\n",
      "Epoch 9/10\n",
      "461/461 [==============================] - 75s 162ms/step - loss: 0.2230 - accuracy: 0.9145 - val_loss: 0.7027 - val_accuracy: 0.7594\n",
      "Epoch 10/10\n",
      "461/461 [==============================] - 79s 171ms/step - loss: 0.1950 - accuracy: 0.9293 - val_loss: 0.5450 - val_accuracy: 0.8267\n",
      "116/116 [==============================] - 16s 141ms/step - loss: 0.5450 - accuracy: 0.8267\n",
      "Validation Accuracy: 82.67%\n"
     ]
    }
   ],
   "source": [
    "history = model.fit(\n",
    "    train_generator,\n",
    "    epochs=epochs,\n",
    "    validation_data=validation_generator\n",
    ")\n",
    "\n",
    "# Evaluate the Model\n",
    "_, accuracy = model.evaluate(validation_generator)\n",
    "print(f\"Validation Accuracy: {accuracy * 100:.2f}%\")"
   ]
  },
  {
   "cell_type": "code",
   "execution_count": 10,
   "metadata": {},
   "outputs": [
    {
     "data": {
      "text/plain": [
       "True"
      ]
     },
     "execution_count": 10,
     "metadata": {},
     "output_type": "execute_result"
    }
   ],
   "source": [
    "import tensorflow as tf\n",
    "tf.test.is_built_with_cuda()\n"
   ]
  },
  {
   "cell_type": "code",
   "execution_count": 11,
   "metadata": {},
   "outputs": [
    {
     "name": "stdout",
     "output_type": "stream",
     "text": [
      "WARNING:tensorflow:From C:\\Users\\VICTUS\\AppData\\Local\\Temp\\ipykernel_19072\\337460670.py:1: is_gpu_available (from tensorflow.python.framework.test_util) is deprecated and will be removed in a future version.\n",
      "Instructions for updating:\n",
      "Use `tf.config.list_physical_devices('GPU')` instead.\n"
     ]
    },
    {
     "data": {
      "text/plain": [
       "True"
      ]
     },
     "execution_count": 11,
     "metadata": {},
     "output_type": "execute_result"
    }
   ],
   "source": [
    "tf.test.is_gpu_available()"
   ]
  }
 ],
 "metadata": {
  "kernelspec": {
   "display_name": "Python 3",
   "language": "python",
   "name": "python3"
  },
  "language_info": {
   "codemirror_mode": {
    "name": "ipython",
    "version": 3
   },
   "file_extension": ".py",
   "mimetype": "text/x-python",
   "name": "python",
   "nbconvert_exporter": "python",
   "pygments_lexer": "ipython3",
   "version": "3.10.13"
  }
 },
 "nbformat": 4,
 "nbformat_minor": 2
}
