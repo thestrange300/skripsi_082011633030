{
 "cells": [
  {
   "cell_type": "code",
   "execution_count": 4,
   "metadata": {},
   "outputs": [
    {
     "name": "stdout",
     "output_type": "stream",
     "text": [
      "{'COVID-19': 1281, 'Normal': 3270, 'Pneumonia-Bacterial': 3001, 'Pneumonia-Viral': 1656}\n",
      "Maximum number of images in a folder: 3270\n"
     ]
    }
   ],
   "source": [
    "import os\n",
    "\n",
    "# Define the path to the dataset\n",
    "dataset_path = r'D:\\Curated X-Ray Dataset'\n",
    "folders = ['COVID-19', 'Normal', 'Pneumonia-Bacterial', 'Pneumonia-Viral']\n",
    "\n",
    "# Count the number of images in each folder\n",
    "image_counts = {}\n",
    "for folder in folders:\n",
    "    folder_path = os.path.join(dataset_path, folder)\n",
    "    image_counts[folder] = len(os.listdir(folder_path))\n",
    "\n",
    "print(image_counts)\n",
    "\n",
    "max_images = max(image_counts.values())\n",
    "print(f\"Maximum number of images in a folder: {max_images}\")"
   ]
  },
  {
   "cell_type": "code",
   "execution_count": 5,
   "metadata": {},
   "outputs": [
    {
     "name": "stdout",
     "output_type": "stream",
     "text": [
      "Oversampling complete.\n"
     ]
    }
   ],
   "source": [
    "import shutil\n",
    "import random\n",
    "\n",
    "# Define the path to the output dataset\n",
    "output_path = r'D:\\Dataset\\Raw Normal Oversampled'\n",
    "\n",
    "# Create the output directory if it doesn't exist\n",
    "os.makedirs(output_path, exist_ok=True)\n",
    "\n",
    "# Function to oversample images\n",
    "def oversample_images(folder, target_count):\n",
    "    folder_path = os.path.join(dataset_path, folder)\n",
    "    output_folder_path = os.path.join(output_path, folder)\n",
    "    os.makedirs(output_folder_path, exist_ok=True)\n",
    "    \n",
    "    images = os.listdir(folder_path)\n",
    "    current_count = len(images)\n",
    "    \n",
    "    # Copy existing images to the output folder\n",
    "    for image in images:\n",
    "        shutil.copy(os.path.join(folder_path, image), os.path.join(output_folder_path, image))\n",
    "    \n",
    "    # Oversample by duplicating images\n",
    "    while current_count < target_count:\n",
    "        image_to_copy = random.choice(images)\n",
    "        new_image_name = f\"{current_count}_{image_to_copy}\"\n",
    "        shutil.copy(os.path.join(folder_path, image_to_copy), os.path.join(output_folder_path, new_image_name))\n",
    "        current_count += 1\n",
    "\n",
    "# Oversample each folder\n",
    "for folder, count in image_counts.items():\n",
    "    if count < max_images:\n",
    "        oversample_images(folder, max_images)\n",
    "    else:\n",
    "        # Just copy the folder as is if it already has the max number of images\n",
    "        shutil.copytree(os.path.join(dataset_path, folder), os.path.join(output_path, folder))\n",
    "\n",
    "print(\"Oversampling complete.\")"
   ]
  }
 ],
 "metadata": {
  "kernelspec": {
   "display_name": "skripsi",
   "language": "python",
   "name": "python3"
  },
  "language_info": {
   "codemirror_mode": {
    "name": "ipython",
    "version": 3
   },
   "file_extension": ".py",
   "mimetype": "text/x-python",
   "name": "python",
   "nbconvert_exporter": "python",
   "pygments_lexer": "ipython3",
   "version": "3.10.13"
  }
 },
 "nbformat": 4,
 "nbformat_minor": 2
}
