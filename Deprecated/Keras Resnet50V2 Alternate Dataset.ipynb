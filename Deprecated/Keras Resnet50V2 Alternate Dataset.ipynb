{
 "cells": [
  {
   "cell_type": "code",
   "execution_count": 9,
   "metadata": {},
   "outputs": [],
   "source": [
    "import os\n",
    "import tensorflow as tf\n",
    "from tensorflow.keras.preprocessing.image import ImageDataGenerator\n",
    "from tensorflow.keras.applications import ResNet50V2\n",
    "from tensorflow.keras import layers, models, optimizers\n",
    "from tensorflow.keras.callbacks import EarlyStopping, LearningRateScheduler"
   ]
  },
  {
   "cell_type": "code",
   "execution_count": 10,
   "metadata": {},
   "outputs": [
    {
     "name": "stdout",
     "output_type": "stream",
     "text": [
      "Found 5232 images belonging to 3 classes.\n",
      "Found 312 images belonging to 3 classes.\n",
      "Found 312 images belonging to 3 classes.\n"
     ]
    }
   ],
   "source": [
    "# Specify the input image size for VGG19\n",
    "img_size = (224, 224)\n",
    "\n",
    "# Data Augmentation (commented out for comparison)\n",
    "# train_datagen = ImageDataGenerator(\n",
    "#     rescale=1./255,\n",
    "#     rotation_range=20,\n",
    "#     zoom_range=0.2,\n",
    "#     horizontal_flip=True\n",
    "# )\n",
    "\n",
    "train_datagen = ImageDataGenerator(rescale=1./255)\n",
    "val_datagen = ImageDataGenerator(rescale=1./255)\n",
    "test_datagen = ImageDataGenerator(rescale=1./255)\n",
    "\n",
    "# Set the batch size\n",
    "batch_size = 32\n",
    "\n",
    "# Specify the paths to your train, validation, and test data\n",
    "train_dir = 'D:\\Zhanglab Data\\CellData\\chest_xray\\\\train'\n",
    "val_dir = 'D:\\Zhanglab Data\\CellData\\chest_xray\\\\val'\n",
    "test_dir = 'D:\\Zhanglab Data\\CellData\\chest_xray\\\\test'\n",
    "\n",
    "# Flow training images in batches using train_datagen generator\n",
    "train_generator = train_datagen.flow_from_directory(\n",
    "    train_dir,\n",
    "    target_size=img_size,\n",
    "    batch_size=batch_size,\n",
    "    class_mode='categorical'\n",
    ")\n",
    "\n",
    "# Flow validation images in batches using val_datagen generator\n",
    "val_generator = val_datagen.flow_from_directory(\n",
    "    val_dir,\n",
    "    target_size=img_size,\n",
    "    batch_size=batch_size,\n",
    "    class_mode='categorical',\n",
    "\n",
    ")\n",
    "\n",
    "# Flow test images in batches using test_datagen generator\n",
    "test_generator = test_datagen.flow_from_directory(\n",
    "    test_dir,\n",
    "    target_size=img_size,\n",
    "    batch_size=1,\n",
    "    class_mode='categorical',\n",
    "    shuffle = False\n",
    ")"
   ]
  },
  {
   "cell_type": "code",
   "execution_count": 11,
   "metadata": {},
   "outputs": [
    {
     "name": "stdout",
     "output_type": "stream",
     "text": [
      "Model: \"sequential_1\"\n",
      "_________________________________________________________________\n",
      " Layer (type)                Output Shape              Param #   \n",
      "=================================================================\n",
      " resnet50v2 (Functional)     (None, 7, 7, 2048)        23564800  \n",
      "                                                                 \n",
      " flatten_1 (Flatten)         (None, 100352)            0         \n",
      "                                                                 \n",
      " dense_2 (Dense)             (None, 256)               25690368  \n",
      "                                                                 \n",
      " dropout_1 (Dropout)         (None, 256)               0         \n",
      "                                                                 \n",
      " dense_3 (Dense)             (None, 3)                 771       \n",
      "                                                                 \n",
      "=================================================================\n",
      "Total params: 49,255,939\n",
      "Trainable params: 25,691,139\n",
      "Non-trainable params: 23,564,800\n",
      "_________________________________________________________________\n"
     ]
    }
   ],
   "source": [
    "# Load the VGG-19 model with pretrained weights (excluding the top dense layers)\n",
    "base_model = ResNet50V2(weights='imagenet', include_top=False, input_shape=(224, 224, 3))\n",
    "\n",
    "# Freeze the convolutional layers\n",
    "for layer in base_model.layers:\n",
    "    layer.trainable = False\n",
    "\n",
    "# Create a new model on top\n",
    "model = models.Sequential()\n",
    "\n",
    "# Add the VGG-19 base model\n",
    "model.add(base_model)\n",
    "\n",
    "# Flatten the output layer to 1 dimension\n",
    "model.add(layers.Flatten())\n",
    "\n",
    "# Add a fully connected layer with 256 hidden units and ReLU activation\n",
    "model.add(layers.Dense(256, activation='relu'))\n",
    "\n",
    "# Add a dropout layer for regularization\n",
    "model.add(layers.Dropout(0.5))\n",
    "\n",
    "# Add the final output layer with 4 classes for classification\n",
    "model.add(layers.Dense(3, activation='softmax'))\n",
    "\n",
    "# Print the model summary\n",
    "model.summary()"
   ]
  },
  {
   "cell_type": "code",
   "execution_count": 13,
   "metadata": {},
   "outputs": [
    {
     "name": "stdout",
     "output_type": "stream",
     "text": [
      "Epoch 1/75\n",
      "163/163 [==============================] - 48s 280ms/step - loss: 0.3713 - accuracy: 0.8510 - val_loss: 0.7158 - val_accuracy: 0.8333\n",
      "Epoch 2/75\n",
      "163/163 [==============================] - 44s 270ms/step - loss: 0.3424 - accuracy: 0.8569 - val_loss: 1.1540 - val_accuracy: 0.7812\n",
      "Epoch 3/75\n",
      "163/163 [==============================] - 44s 270ms/step - loss: 0.3672 - accuracy: 0.8575 - val_loss: 0.7817 - val_accuracy: 0.8472\n",
      "Epoch 4/75\n",
      "163/163 [==============================] - 44s 270ms/step - loss: 0.2866 - accuracy: 0.8769 - val_loss: 0.9276 - val_accuracy: 0.8333\n",
      "Epoch 5/75\n",
      "163/163 [==============================] - 44s 271ms/step - loss: 0.2867 - accuracy: 0.8881 - val_loss: 1.1047 - val_accuracy: 0.8368\n",
      "Epoch 6/75\n",
      "163/163 [==============================] - 44s 271ms/step - loss: 0.2793 - accuracy: 0.8825 - val_loss: 0.7065 - val_accuracy: 0.8438\n",
      "Epoch 7/75\n",
      "163/163 [==============================] - 45s 274ms/step - loss: 0.2185 - accuracy: 0.9085 - val_loss: 1.1627 - val_accuracy: 0.7743\n",
      "Epoch 8/75\n",
      "163/163 [==============================] - 45s 274ms/step - loss: 0.1851 - accuracy: 0.9210 - val_loss: 0.8371 - val_accuracy: 0.8368\n",
      "Epoch 9/75\n",
      "163/163 [==============================] - 45s 275ms/step - loss: 0.1881 - accuracy: 0.9196 - val_loss: 0.9205 - val_accuracy: 0.8299\n",
      "Epoch 10/75\n",
      "163/163 [==============================] - 44s 269ms/step - loss: 0.1934 - accuracy: 0.9221 - val_loss: 1.2501 - val_accuracy: 0.7917\n",
      "Epoch 11/75\n",
      "163/163 [==============================] - 44s 272ms/step - loss: 0.2284 - accuracy: 0.9117 - val_loss: 0.7371 - val_accuracy: 0.8611\n",
      "312/312 [==============================] - 5s 17ms/step - loss: 0.7496 - accuracy: 0.8237\n",
      "Test Loss: 0.7496\n",
      "Test Accuracy: 0.8237\n"
     ]
    }
   ],
   "source": [
    "# Define the initial learning rate and the learning rate schedule\n",
    "initial_learning_rate = 0.001\n",
    "lr_schedule = tf.keras.optimizers.schedules.ExponentialDecay(\n",
    "    initial_learning_rate, decay_steps=100000, decay_rate=0.96, staircase=True\n",
    ")\n",
    "\n",
    "# Define the optimizer with the learning rate schedule\n",
    "opt = optimizers.Adam(learning_rate=lr_schedule)\n",
    "\n",
    "# Compile the model\n",
    "model.compile(optimizer=opt, loss='categorical_crossentropy', metrics=['accuracy'])\n",
    "\n",
    "# Set up early stopping callback\n",
    "early_stop = EarlyStopping(monitor='val_loss', patience=5, restore_best_weights=True)\n",
    "\n",
    "# Train the model with the specified number of epochs\n",
    "history = model.fit(\n",
    "    train_generator,\n",
    "    steps_per_epoch=train_generator.samples // batch_size,\n",
    "    epochs=75,\n",
    "    validation_data=val_generator,\n",
    "    validation_steps=val_generator.samples // batch_size,\n",
    "    callbacks=[early_stop]\n",
    ")\n",
    "\n",
    "# Evaluate the model on the test set\n",
    "test_loss, test_accuracy = model.evaluate(test_generator, steps=len(test_generator))\n",
    "print(f'Test Loss: {test_loss:.4f}')\n",
    "print(f'Test Accuracy: {test_accuracy:.4f}')"
   ]
  },
  {
   "cell_type": "code",
   "execution_count": 14,
   "metadata": {},
   "outputs": [
    {
     "name": "stdout",
     "output_type": "stream",
     "text": [
      "312/312 [==============================] - 5s 15ms/step\n",
      "\n",
      "Classification Report:\n",
      "                     precision    recall  f1-score   support\n",
      "\n",
      "             NORMAL     0.9651    0.7094    0.8177       117\n",
      "PNEUMONIA-BACTERIAL     0.8194    0.9752    0.8906       121\n",
      "    PNEUMONIA-VIRAL     0.6829    0.7568    0.7179        74\n",
      "\n",
      "           accuracy                         0.8237       312\n",
      "          macro avg     0.8225    0.8138    0.8087       312\n",
      "       weighted avg     0.8417    0.8237    0.8223       312\n",
      "\n"
     ]
    }
   ],
   "source": [
    "from sklearn.metrics import classification_report\n",
    "\n",
    "# Get predictions on the test set\n",
    "y_pred = model.predict(test_generator)\n",
    "y_true = test_generator.classes\n",
    "\n",
    "# Convert predictions to class labels\n",
    "y_pred_labels = tf.argmax(y_pred, axis=1)\n",
    "class_labels = list(test_generator.class_indices.keys())\n",
    "\n",
    "# Generate and print the classification report\n",
    "print(\"\\nClassification Report:\")\n",
    "print(classification_report(y_true, y_pred_labels, target_names=class_labels, digits=4))"
   ]
  },
  {
   "cell_type": "code",
   "execution_count": 15,
   "metadata": {},
   "outputs": [
    {
     "name": "stdout",
     "output_type": "stream",
     "text": [
      "312/312 [==============================] - 5s 15ms/step\n"
     ]
    },
    {
     "data": {
      "image/png": "[encoded data removed]",
      "text/plain": [
       "<Figure size 800x600 with 2 Axes>"
      ]
     },
     "metadata": {},
     "output_type": "display_data"
    }
   ],
   "source": [
    "import numpy as np\n",
    "import seaborn as sns\n",
    "from sklearn.metrics import confusion_matrix, classification_report\n",
    "import matplotlib.pyplot as plt\n",
    "\n",
    "# Predict the classes for the test set\n",
    "y_pred = np.argmax(model.predict(test_generator), axis=1)\n",
    "\n",
    "# Get the true classes for the test set\n",
    "y_true = test_generator.classes\n",
    "\n",
    "# Create the confusion matrix\n",
    "cm = confusion_matrix(y_true, y_pred)\n",
    "\n",
    "# Plot the confusion matrix using seaborn\n",
    "class_names = ['NORMAL', 'PNEUMONIA-BACTERIAL', 'PNEUMONIA-VIRAL']  # Adjust these based on your actual class names\n",
    "plt.figure(figsize=(8, 6))\n",
    "sns.heatmap(cm, annot=True, fmt='d', cmap='Blues', xticklabels=class_names, yticklabels=class_names)\n",
    "plt.xlabel('Predicted')\n",
    "plt.ylabel('True')\n",
    "plt.title('Confusion Matrix')\n",
    "plt.show()\n"
   ]
  }
 ],
 "metadata": {
  "kernelspec": {
   "display_name": "skripsi",
   "language": "python",
   "name": "python3"
  },
  "language_info": {
   "codemirror_mode": {
    "name": "ipython",
    "version": 3
   },
   "file_extension": ".py",
   "mimetype": "text/x-python",
   "name": "python",
   "nbconvert_exporter": "python",
   "pygments_lexer": "ipython3",
   "version": "3.10.13"
  }
 },
 "nbformat": 4,
 "nbformat_minor": 2
}
