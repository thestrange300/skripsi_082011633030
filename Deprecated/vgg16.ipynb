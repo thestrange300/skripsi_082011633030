{
 "cells": [
  {
   "cell_type": "code",
   "execution_count": 1,
   "metadata": {},
   "outputs": [],
   "source": [
    "import os\n",
    "import numpy as np\n",
    "import scipy\n",
    "import tensorflow as tf\n",
    "import matplotlib.pyplot as plt\n",
    "import pandas as pd\n",
    "from tensorflow.keras.preprocessing.image import ImageDataGenerator\n",
    "from tensorflow.keras.applications import VGG16\n",
    "from tensorflow.keras import layers, models, regularizers\n",
    "from sklearn.model_selection import train_test_split\n",
    "from sklearn.metrics import classification_report\n",
    "from sklearn.metrics import confusion_matrix\n",
    "import seaborn as sns\n",
    "import matplotlib.pyplot as plt\n",
    "from collections import Counter\n",
    "from sklearn.utils import shuffle\n",
    "from imblearn.under_sampling import RandomUnderSampler\n",
    "from tensorflow.keras.callbacks import ReduceLROnPlateau, ModelCheckpoint, EarlyStopping\n"
   ]
  },
  {
   "cell_type": "code",
   "execution_count": 2,
   "metadata": {},
   "outputs": [],
   "source": [
    "data_dir = \"D:/Curated X-Ray Dataset/\"\n",
    "batch_size = 16\n",
    "img_size = (224, 224)  # VGG16 input size\n",
    "\n",
    "# datagen = ImageDataGenerator(rescale=1./255, validation_split=0.2)\n",
    "\n",
    "# train_generator = datagen.flow_from_directory(\n",
    "#     data_dir,\n",
    "#     target_size=img_size,\n",
    "#     batch_size=batch_size,\n",
    "#     class_mode='categorical',\n",
    "#     subset='training'\n",
    "# )\n",
    "\n",
    "# validation_generator = datagen.flow_from_directory(\n",
    "#     data_dir,\n",
    "#     target_size=img_size,\n",
    "#     batch_size=batch_size,\n",
    "#     class_mode='categorical',\n",
    "#     subset='validation'\n",
    "# )\n"
   ]
  },
  {
   "cell_type": "code",
   "execution_count": 3,
   "metadata": {},
   "outputs": [
    {
     "name": "stdout",
     "output_type": "stream",
     "text": [
      "Number of training samples: 8287\n",
      "Number of validation samples: 736\n",
      "Number of test samples: 185\n"
     ]
    }
   ],
   "source": [
    "# Create lists to store file paths and corresponding labels\n",
    "file_paths = []\n",
    "labels = []\n",
    "\n",
    "# Iterate through each class directory\n",
    "for class_label in os.listdir(data_dir):\n",
    "    class_path = os.path.join(data_dir, class_label)\n",
    "    \n",
    "    # Only consider directories\n",
    "    if os.path.isdir(class_path):\n",
    "        # Iterate through images in the class directory\n",
    "        for filename in os.listdir(class_path):\n",
    "            file_path = os.path.join(class_path, filename)\n",
    "            file_paths.append(file_path)\n",
    "            labels.append(class_label)\n",
    "\n",
    "# Split the data into training and temporary sets\n",
    "X_train, X_temp, y_train, y_temp = train_test_split(file_paths, labels, test_size=0.1, random_state=42)\n",
    "\n",
    "# Split the temporary set into validation and test sets\n",
    "X_val, X_test, y_val, y_test = train_test_split(X_temp, y_temp, test_size=0.2, random_state=42)\n",
    "\n",
    "# Print the sizes of each set\n",
    "print(f\"Number of training samples: {len(X_train)}\")\n",
    "print(f\"Number of validation samples: {len(X_val)}\")\n",
    "print(f\"Number of test samples: {len(X_test)}\")"
   ]
  },
  {
   "cell_type": "code",
   "execution_count": 4,
   "metadata": {},
   "outputs": [
    {
     "name": "stdout",
     "output_type": "stream",
     "text": [
      "Class distribution before undersampling: Counter({'Normal': 2938, 'Pneumonia-Bacterial': 2715, 'Pneumonia-Viral': 1479, 'COVID-19': 1155})\n",
      "Class distribution after undersampling: Counter({'COVID-19': 1155, 'Normal': 1155, 'Pneumonia-Bacterial': 1155, 'Pneumonia-Viral': 1155})\n",
      "Found 4620 validated image filenames belonging to 4 classes.\n",
      "Found 736 validated image filenames belonging to 4 classes.\n",
      "Found 185 validated image filenames belonging to 4 classes.\n"
     ]
    }
   ],
   "source": [
    "train_df = pd.DataFrame({'filename': X_train, 'label': y_train})\n",
    "val_df = pd.DataFrame({'filename': X_val, 'label': y_val})\n",
    "test_df = pd.DataFrame({'filename': X_test, 'label': y_test})\n",
    "\n",
    "# Class distribution before undersampling\n",
    "class_distribution_before = Counter(y_train)\n",
    "print(\"Class distribution before undersampling:\", class_distribution_before)\n",
    "\n",
    "# Perform undersampling on the training set\n",
    "undersample = RandomUnderSampler(sampling_strategy='auto', random_state=42)\n",
    "X_train_resampled, y_train_resampled = undersample.fit_resample(np.array(X_train).reshape(-1, 1), y_train)\n",
    "\n",
    "# Extract lists from the resampled arrays\n",
    "X_train_resampled = X_train_resampled.flatten().tolist()\n",
    "\n",
    "# Shuffle the resampled data\n",
    "X_train_resampled, y_train_resampled = shuffle(X_train_resampled, y_train_resampled, random_state=42)\n",
    "\n",
    "# Class distribution after undersampling\n",
    "class_distribution_after = Counter(y_train_resampled)\n",
    "print(\"Class distribution after undersampling:\", class_distribution_after)\n",
    "\n",
    "train_datagen = ImageDataGenerator(rescale=1./255)\n",
    "train_generator = train_datagen.flow_from_dataframe(\n",
    "    pd.DataFrame({'filename': X_train_resampled, 'label': y_train_resampled}),\n",
    "    x_col='filename',\n",
    "    y_col='label',\n",
    "    target_size=img_size,\n",
    "    batch_size=batch_size,\n",
    "    class_mode='categorical'\n",
    ")\n",
    "\n",
    "val_datagen = ImageDataGenerator(rescale=1./255)\n",
    "val_generator = val_datagen.flow_from_dataframe(\n",
    "    val_df,\n",
    "    x_col='filename',\n",
    "    y_col='label',\n",
    "    target_size=img_size,\n",
    "    batch_size=batch_size,\n",
    "    class_mode='categorical'\n",
    ")\n",
    "\n",
    "test_datagen = ImageDataGenerator(rescale=1./255)\n",
    "test_generator = test_datagen.flow_from_dataframe(\n",
    "    test_df,\n",
    "    x_col='filename',\n",
    "    y_col='label',\n",
    "    target_size=img_size,\n",
    "    batch_size=batch_size,\n",
    "    class_mode='categorical'\n",
    ")"
   ]
  },
  {
   "cell_type": "code",
   "execution_count": 5,
   "metadata": {},
   "outputs": [],
   "source": [
    "base_model = VGG16(weights='imagenet', include_top=False, input_shape=(224, 224, 3))\n",
    "\n",
    "for layer in base_model.layers:\n",
    "    layer.trainable = False"
   ]
  },
  {
   "cell_type": "code",
   "execution_count": 6,
   "metadata": {},
   "outputs": [],
   "source": [
    "# Flatten the output layer to 1 dimension\n",
    "x = layers.Flatten()(base_model.output)\n",
    "\n",
    "# Add a fully connected layer with softmax activation\n",
    "output = layers.Dense(4, activation='softmax')(x)  # Assuming 4 classes\n",
    "\n",
    "# # Model without Added Layer\n",
    "model = models.Model(base_model.input, output)\n",
    "\n",
    "#Model with added layer\n",
    "# model = models.Sequential()\n",
    "# model.add(base_model)\n",
    "# model.add(layers.Flatten())\n",
    "# model.add(layers.Dense(256, activation='relu'))\n",
    "# model.add(layers.Dropout(0.5))\n",
    "# model.add(layers.Dense(4, activation='softmax'))  # Assuming 4 classes (Normal, Pneumonia-Viral, Pneumonia-Bacterial, COVID-19)\n",
    "\n",
    "\n",
    "initial_learning_rate = 0.001\n",
    "lr_schedule = tf.keras.optimizers.schedules.ExponentialDecay(\n",
    "    initial_learning_rate, decay_steps=100000, decay_rate=0.96, staircase=True\n",
    ")\n",
    "\n",
    "\n",
    "#Early Stopping\n",
    "callback = tf.keras.callbacks.EarlyStopping(\n",
    "    monitor='val_loss',  # You can also use 'val_accuracy' as the monitor\n",
    "    patience=3,  # Number of epochs with no improvement after which training will be stopped\n",
    "    restore_best_weights=True  # Restore model weights from the epoch with the best value of the monitored quantity\n",
    ")\n",
    "\n",
    "# 'adam' = tf.keras.optimizers.Adam(learning_rate=lr_schedule)\n",
    "model.compile(optimizer='adam',\n",
    "              loss='categorical_crossentropy',\n",
    "              metrics=['accuracy'])\n",
    "\n",
    "# Compile without LR Schedule\n",
    "# model.compile(optimizer='adam', loss='categorical_crossentropy', metrics=['accuracy'])\n",
    "\n",
    "# Train the Model\n",
    "epochs = 20  # You can adjust this based on your needs"
   ]
  },
  {
   "cell_type": "code",
   "execution_count": 7,
   "metadata": {},
   "outputs": [
    {
     "name": "stdout",
     "output_type": "stream",
     "text": [
      "Epoch 1/20\n",
      "289/289 [==============================] - 51s 157ms/step - loss: 0.5707 - accuracy: 0.7820 - val_loss: 0.5054 - val_accuracy: 0.8125\n",
      "Epoch 2/20\n",
      "289/289 [==============================] - 42s 145ms/step - loss: 0.3527 - accuracy: 0.8509 - val_loss: 0.4167 - val_accuracy: 0.8356\n",
      "Epoch 3/20\n",
      "289/289 [==============================] - 41s 143ms/step - loss: 0.2772 - accuracy: 0.8842 - val_loss: 0.3689 - val_accuracy: 0.8519\n",
      "Epoch 4/20\n",
      "289/289 [==============================] - 41s 142ms/step - loss: 0.2586 - accuracy: 0.8924 - val_loss: 0.4166 - val_accuracy: 0.8438\n",
      "Epoch 5/20\n",
      "289/289 [==============================] - 41s 143ms/step - loss: 0.2235 - accuracy: 0.9037 - val_loss: 0.4543 - val_accuracy: 0.8193\n",
      "Epoch 6/20\n",
      "289/289 [==============================] - 41s 143ms/step - loss: 0.1601 - accuracy: 0.9355 - val_loss: 0.3832 - val_accuracy: 0.8505\n",
      "46/46 [==============================] - 6s 126ms/step - loss: 0.3689 - accuracy: 0.8519\n",
      "Validation Accuracy: 85.19%\n"
     ]
    }
   ],
   "source": [
    "# history = model.fit(\n",
    "#     train_generator,\n",
    "#     epochs=epochs,\n",
    "#     validation_data=validation_generator,\n",
    "#     callbacks=[early_stopping]  # Add the EarlyStopping callback here\n",
    "# )\n",
    "\n",
    "# learning_rate_reduction = ReduceLROnPlateau(monitor=\"val_loss\", factor=0.1, patience=4, \n",
    "#                                             min_lr=1e-7, verbose=1, mode=\"min\")\n",
    "\n",
    "\n",
    "history = model.fit(\n",
    "    train_generator,\n",
    "    epochs=epochs,\n",
    "    validation_data=val_generator,  # Use the validation generator created from the DataFrame\n",
    "    callbacks=[callback]\n",
    ")\n",
    "\n",
    "# Evaluate the Model\n",
    "_, accuracy = model.evaluate(val_generator)\n",
    "print(f\"Validation Accuracy: {accuracy * 100:.2f}%\")"
   ]
  },
  {
   "cell_type": "code",
   "execution_count": 8,
   "metadata": {},
   "outputs": [
    {
     "name": "stdout",
     "output_type": "stream",
     "text": [
      "46/46 [==============================] - 6s 124ms/step\n",
      "Classification Report:\n",
      "               precision    recall  f1-score   support\n",
      "\n",
      "           0       0.11      0.11      0.11       102\n",
      "           1       0.34      0.34      0.34       274\n",
      "           2       0.28      0.28      0.28       226\n",
      "           3       0.23      0.22      0.23       134\n",
      "\n",
      "    accuracy                           0.27       736\n",
      "   macro avg       0.24      0.24      0.24       736\n",
      "weighted avg       0.27      0.27      0.27       736\n",
      "\n"
     ]
    }
   ],
   "source": [
    "# Predict on test data\n",
    "y_pred = model.predict(val_generator)\n",
    "y_pred_classes = np.argmax(y_pred, axis=1)\n",
    "\n",
    "# Get true labels\n",
    "y_true = val_generator.classes\n",
    "\n",
    "# Convert one-hot encoded labels to integers\n",
    "class_labels = list(val_generator.class_indices.keys())\n",
    "\n",
    "# Generate classification report\n",
    "report = classification_report(y_true, y_pred_classes)\n",
    "print(\"Classification Report:\\n\", report)"
   ]
  },
  {
   "cell_type": "code",
   "execution_count": 9,
   "metadata": {},
   "outputs": [
    {
     "data": {
      "text/plain": [
       "[1,\n",
       " 2,\n",
       " 1,\n",
       " 0,\n",
       " 1,\n",
       " 3,\n",
       " 1,\n",
       " 3,\n",
       " 2,\n",
       " 0,\n",
       " 1,\n",
       " 1,\n",
       " 1,\n",
       " 1,\n",
       " 1,\n",
       " 1,\n",
       " 1,\n",
       " 3,\n",
       " 2,\n",
       " 0,\n",
       " 2,\n",
       " 1,\n",
       " 3,\n",
       " 2,\n",
       " 1,\n",
       " 0,\n",
       " 2,\n",
       " 1,\n",
       " 0,\n",
       " 0]"
      ]
     },
     "execution_count": 9,
     "metadata": {},
     "output_type": "execute_result"
    }
   ],
   "source": [
    "y_true[:30]\n"
   ]
  },
  {
   "cell_type": "code",
   "execution_count": 10,
   "metadata": {},
   "outputs": [
    {
     "data": {
      "text/plain": [
       "array([0, 0, 1, 0, 1, 2, 2, 1, 1, 2, 3, 1, 1, 1, 2, 3, 2, 1, 1, 2, 1, 2,\n",
       "       0, 2, 3, 2, 3, 1, 1, 2], dtype=int64)"
      ]
     },
     "execution_count": 10,
     "metadata": {},
     "output_type": "execute_result"
    }
   ],
   "source": [
    "y_pred_classes[:30]"
   ]
  },
  {
   "cell_type": "code",
   "execution_count": 11,
   "metadata": {},
   "outputs": [
    {
     "data": {
      "image/png": "[encoded data removed]",
      "text/plain": [
       "<Figure size 800x600 with 2 Axes>"
      ]
     },
     "metadata": {},
     "output_type": "display_data"
    }
   ],
   "source": [
    "# Generate Confusion Matrix\n",
    "conf_matrix = confusion_matrix(y_true, y_pred_classes)\n",
    "\n",
    "# Plot Confusion Matrix\n",
    "plt.figure(figsize=(8, 6))\n",
    "sns.heatmap(conf_matrix, annot=True, fmt='d', cmap='Blues', xticklabels=class_labels, yticklabels=class_labels)\n",
    "plt.xlabel('Predicted Label')\n",
    "plt.ylabel('True Label')\n",
    "plt.title('Confusion Matrix')\n",
    "plt.show()"
   ]
  },
  {
   "cell_type": "code",
   "execution_count": 1,
   "metadata": {},
   "outputs": [
    {
     "data": {
      "text/plain": [
       "True"
      ]
     },
     "execution_count": 1,
     "metadata": {},
     "output_type": "execute_result"
    }
   ],
   "source": [
    "import tensorflow as tf\n",
    "tf.test.is_built_with_cuda()\n"
   ]
  },
  {
   "cell_type": "code",
   "execution_count": 3,
   "metadata": {},
   "outputs": [
    {
     "data": {
      "text/plain": [
       "[PhysicalDevice(name='/physical_device:GPU:0', device_type='GPU')]"
      ]
     },
     "execution_count": 3,
     "metadata": {},
     "output_type": "execute_result"
    }
   ],
   "source": [
    "tf.config.list_physical_devices('GPU')"
   ]
  }
 ],
 "metadata": {
  "kernelspec": {
   "display_name": "Python 3",
   "language": "python",
   "name": "python3"
  },
  "language_info": {
   "codemirror_mode": {
    "name": "ipython",
    "version": 3
   },
   "file_extension": ".py",
   "mimetype": "text/x-python",
   "name": "python",
   "nbconvert_exporter": "python",
   "pygments_lexer": "ipython3",
   "version": "3.10.13"
  }
 },
 "nbformat": 4,
 "nbformat_minor": 2
}
