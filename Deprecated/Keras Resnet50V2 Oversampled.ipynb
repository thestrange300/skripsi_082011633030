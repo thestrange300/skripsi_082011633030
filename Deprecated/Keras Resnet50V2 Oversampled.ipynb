{
 "cells": [
  {
   "cell_type": "code",
   "execution_count": 1,
   "metadata": {},
   "outputs": [],
   "source": [
    "import os\n",
    "import tensorflow as tf\n",
    "from tensorflow.keras.preprocessing.image import ImageDataGenerator\n",
    "from tensorflow.keras.applications import ResNet50V2\n",
    "from tensorflow.keras import layers, models, optimizers\n",
    "from tensorflow.keras.callbacks import EarlyStopping, LearningRateScheduler"
   ]
  },
  {
   "cell_type": "code",
   "execution_count": 2,
   "metadata": {},
   "outputs": [
    {
     "name": "stdout",
     "output_type": "stream",
     "text": [
      "Found 6378 images belonging to 4 classes.\n",
      "Found 795 images belonging to 4 classes.\n",
      "Found 814 images belonging to 4 classes.\n"
     ]
    }
   ],
   "source": [
    "# Specify the input image size for VGG19\n",
    "img_size = (224, 224)\n",
    "\n",
    "# Data Augmentation (commented out for comparison)\n",
    "# train_datagen = ImageDataGenerator(\n",
    "#     rescale=1./255,\n",
    "#     rotation_range=20,\n",
    "#     zoom_range=0.2,\n",
    "#     horizontal_flip=True\n",
    "# )\n",
    "\n",
    "train_datagen = ImageDataGenerator(rescale=1./255)\n",
    "val_datagen = ImageDataGenerator(rescale=1./255)\n",
    "test_datagen = ImageDataGenerator(rescale=1./255)\n",
    "\n",
    "# Set the batch size\n",
    "batch_size = 32\n",
    "\n",
    "# Specify the paths to your train, validation, and test data\n",
    "train_dir = 'D:\\Splitted Oversampled X-Ray Dataset\\\\train'\n",
    "val_dir = 'D:\\Splitted Oversampled X-Ray Dataset\\\\val'\n",
    "test_dir = 'D:\\Splitted Oversampled X-Ray Dataset\\\\test'\n",
    "\n",
    "# Flow training images in batches using train_datagen generator\n",
    "train_generator = train_datagen.flow_from_directory(\n",
    "    train_dir,\n",
    "    target_size=img_size,\n",
    "    batch_size=batch_size,\n",
    "    class_mode='categorical'\n",
    ")\n",
    "\n",
    "# Flow validation images in batches using val_datagen generator\n",
    "val_generator = val_datagen.flow_from_directory(\n",
    "    val_dir,\n",
    "    target_size=img_size,\n",
    "    batch_size=batch_size,\n",
    "    class_mode='categorical',\n",
    "\n",
    ")\n",
    "\n",
    "# Flow test images in batches using test_datagen generator\n",
    "test_generator = test_datagen.flow_from_directory(\n",
    "    test_dir,\n",
    "    target_size=img_size,\n",
    "    batch_size=1,\n",
    "    class_mode='categorical',\n",
    "    shuffle = False\n",
    ")"
   ]
  },
  {
   "cell_type": "code",
   "execution_count": 3,
   "metadata": {},
   "outputs": [
    {
     "name": "stdout",
     "output_type": "stream",
     "text": [
      "Model: \"sequential\"\n",
      "_________________________________________________________________\n",
      " Layer (type)                Output Shape              Param #   \n",
      "=================================================================\n",
      " resnet50v2 (Functional)     (None, 7, 7, 2048)        23564800  \n",
      "                                                                 \n",
      " flatten (Flatten)           (None, 100352)            0         \n",
      "                                                                 \n",
      " dense (Dense)               (None, 256)               25690368  \n",
      "                                                                 \n",
      " dropout (Dropout)           (None, 256)               0         \n",
      "                                                                 \n",
      " dense_1 (Dense)             (None, 4)                 1028      \n",
      "                                                                 \n",
      "=================================================================\n",
      "Total params: 49,256,196\n",
      "Trainable params: 25,691,396\n",
      "Non-trainable params: 23,564,800\n",
      "_________________________________________________________________\n"
     ]
    }
   ],
   "source": [
    "# Load the VGG-19 model with pretrained weights (excluding the top dense layers)\n",
    "base_model = ResNet50V2(weights='imagenet', include_top=False, input_shape=(224, 224, 3))\n",
    "\n",
    "# Freeze the convolutional layers\n",
    "for layer in base_model.layers:\n",
    "    layer.trainable = False\n",
    "\n",
    "# Create a new model on top\n",
    "model = models.Sequential()\n",
    "\n",
    "# Add the VGG-19 base model\n",
    "model.add(base_model)\n",
    "\n",
    "# Flatten the output layer to 1 dimension\n",
    "model.add(layers.Flatten())\n",
    "\n",
    "# Add a fully connected layer with 256 hidden units and ReLU activation\n",
    "model.add(layers.Dense(256, activation='relu'))\n",
    "\n",
    "# Add a dropout layer for regularization\n",
    "model.add(layers.Dropout(0.5))\n",
    "\n",
    "# Add the final output layer with 4 classes for classification\n",
    "model.add(layers.Dense(4, activation='softmax'))\n",
    "\n",
    "# Print the model summary\n",
    "model.summary()"
   ]
  },
  {
   "cell_type": "code",
   "execution_count": 4,
   "metadata": {},
   "outputs": [
    {
     "name": "stdout",
     "output_type": "stream",
     "text": [
      "Epoch 1/75\n",
      "199/199 [==============================] - 121s 570ms/step - loss: 2.1135 - accuracy: 0.7454 - val_loss: 0.4068 - val_accuracy: 0.8333\n",
      "Epoch 2/75\n",
      "199/199 [==============================] - 105s 530ms/step - loss: 0.4987 - accuracy: 0.8057 - val_loss: 0.4358 - val_accuracy: 0.8073\n",
      "Epoch 3/75\n",
      "199/199 [==============================] - 106s 531ms/step - loss: 0.4570 - accuracy: 0.8185 - val_loss: 0.5047 - val_accuracy: 0.8164\n",
      "Epoch 4/75\n",
      "199/199 [==============================] - 106s 533ms/step - loss: 0.3984 - accuracy: 0.8267 - val_loss: 0.4063 - val_accuracy: 0.8359\n",
      "Epoch 5/75\n",
      "199/199 [==============================] - 106s 530ms/step - loss: 0.3913 - accuracy: 0.8397 - val_loss: 0.3997 - val_accuracy: 0.8294\n",
      "Epoch 6/75\n",
      "199/199 [==============================] - 106s 530ms/step - loss: 0.3650 - accuracy: 0.8522 - val_loss: 0.4229 - val_accuracy: 0.8229\n",
      "Epoch 7/75\n",
      "199/199 [==============================] - 105s 527ms/step - loss: 0.3239 - accuracy: 0.8684 - val_loss: 0.4838 - val_accuracy: 0.8490\n",
      "Epoch 8/75\n",
      "199/199 [==============================] - 106s 532ms/step - loss: 0.3187 - accuracy: 0.8687 - val_loss: 0.3935 - val_accuracy: 0.8542\n",
      "Epoch 9/75\n",
      "199/199 [==============================] - 105s 527ms/step - loss: 0.2739 - accuracy: 0.8760 - val_loss: 0.4712 - val_accuracy: 0.8555\n",
      "Epoch 10/75\n",
      "199/199 [==============================] - 105s 529ms/step - loss: 0.2577 - accuracy: 0.8835 - val_loss: 0.4037 - val_accuracy: 0.8659\n",
      "Epoch 11/75\n",
      "199/199 [==============================] - 108s 545ms/step - loss: 0.2478 - accuracy: 0.8941 - val_loss: 0.3919 - val_accuracy: 0.8763\n",
      "Epoch 12/75\n",
      "199/199 [==============================] - 107s 539ms/step - loss: 0.2357 - accuracy: 0.8998 - val_loss: 0.4021 - val_accuracy: 0.8659\n",
      "Epoch 13/75\n",
      "199/199 [==============================] - 107s 537ms/step - loss: 0.2533 - accuracy: 0.8938 - val_loss: 0.3899 - val_accuracy: 0.8893\n",
      "Epoch 14/75\n",
      "199/199 [==============================] - 105s 530ms/step - loss: 0.2373 - accuracy: 0.8985 - val_loss: 0.5361 - val_accuracy: 0.8906\n",
      "Epoch 15/75\n",
      "199/199 [==============================] - 105s 529ms/step - loss: 0.2144 - accuracy: 0.9133 - val_loss: 0.4198 - val_accuracy: 0.8841\n",
      "Epoch 16/75\n",
      "199/199 [==============================] - 105s 529ms/step - loss: 0.2290 - accuracy: 0.9124 - val_loss: 0.4230 - val_accuracy: 0.8724\n",
      "Epoch 17/75\n",
      "199/199 [==============================] - 105s 529ms/step - loss: 0.2311 - accuracy: 0.8963 - val_loss: 0.4199 - val_accuracy: 0.8841\n",
      "Epoch 18/75\n",
      "199/199 [==============================] - 105s 530ms/step - loss: 0.2075 - accuracy: 0.9127 - val_loss: 0.4826 - val_accuracy: 0.8841\n",
      "814/814 [==============================] - 17s 21ms/step - loss: 0.3417 - accuracy: 0.8722\n",
      "Test Loss: 0.3417\n",
      "Test Accuracy: 0.8722\n"
     ]
    }
   ],
   "source": [
    "# Define the initial learning rate and the learning rate schedule\n",
    "initial_learning_rate = 0.001\n",
    "lr_schedule = tf.keras.optimizers.schedules.ExponentialDecay(\n",
    "    initial_learning_rate, decay_steps=100000, decay_rate=0.96, staircase=True\n",
    ")\n",
    "\n",
    "# Define the optimizer with the learning rate schedule\n",
    "opt = optimizers.Adam(learning_rate=lr_schedule)\n",
    "\n",
    "# Compile the model\n",
    "model.compile(optimizer=opt, loss='categorical_crossentropy', metrics=['accuracy'])\n",
    "\n",
    "# Set up early stopping callback\n",
    "early_stop = EarlyStopping(monitor='val_loss', patience=5, restore_best_weights=True)\n",
    "\n",
    "# Train the model with the specified number of epochs\n",
    "history = model.fit(\n",
    "    train_generator,\n",
    "    steps_per_epoch=train_generator.samples // batch_size,\n",
    "    epochs=75,\n",
    "    validation_data=val_generator,\n",
    "    validation_steps=val_generator.samples // batch_size,\n",
    "    callbacks=[early_stop]\n",
    ")\n",
    "\n",
    "# Evaluate the model on the test set\n",
    "test_loss, test_accuracy = model.evaluate(test_generator, steps=len(test_generator))\n",
    "print(f'Test Loss: {test_loss:.4f}')\n",
    "print(f'Test Accuracy: {test_accuracy:.4f}')"
   ]
  },
  {
   "cell_type": "code",
   "execution_count": 5,
   "metadata": {},
   "outputs": [
    {
     "name": "stdout",
     "output_type": "stream",
     "text": [
      "814/814 [==============================] - 17s 19ms/step\n",
      "\n",
      "Classification Report:\n",
      "                     precision    recall  f1-score   support\n",
      "\n",
      "           COVID-19     0.9907    0.9640    0.9772       111\n",
      "             Normal     0.9536    0.9829    0.9681       293\n",
      "Pneumonia-Bacterial     0.7953    0.8910    0.8404       266\n",
      "    Pneumonia-Viral     0.7358    0.5417    0.6240       144\n",
      "\n",
      "           accuracy                         0.8722       814\n",
      "          macro avg     0.8689    0.8449    0.8524       814\n",
      "       weighted avg     0.8684    0.8722    0.8667       814\n",
      "\n"
     ]
    }
   ],
   "source": [
    "from sklearn.metrics import classification_report\n",
    "\n",
    "# Get predictions on the test set\n",
    "y_pred = model.predict(test_generator)\n",
    "y_true = test_generator.classes\n",
    "\n",
    "# Convert predictions to class labels\n",
    "y_pred_labels = tf.argmax(y_pred, axis=1)\n",
    "class_labels = list(test_generator.class_indices.keys())\n",
    "\n",
    "# Generate and print the classification report\n",
    "print(\"\\nClassification Report:\")\n",
    "print(classification_report(y_true, y_pred_labels, target_names=class_labels, digits=4))"
   ]
  },
  {
   "cell_type": "code",
   "execution_count": 6,
   "metadata": {},
   "outputs": [
    {
     "name": "stdout",
     "output_type": "stream",
     "text": [
      "814/814 [==============================] - 16s 19ms/step\n"
     ]
    },
    {
     "data": {
      "image/png": "[encoded data removed]",
      "text/plain": [
       "<Figure size 800x600 with 2 Axes>"
      ]
     },
     "metadata": {},
     "output_type": "display_data"
    }
   ],
   "source": [
    "import numpy as np\n",
    "import seaborn as sns\n",
    "import matplotlib.pyplot as plt\n",
    "from sklearn.metrics import confusion_matrix, classification_report\n",
    "\n",
    "# Predict the classes for the test set\n",
    "y_pred = np.argmax(model.predict(test_generator), axis=1)\n",
    "\n",
    "# Get the true classes for the test set\n",
    "y_true = test_generator.classes\n",
    "\n",
    "# Create the confusion matrix\n",
    "cm = confusion_matrix(y_true, y_pred)\n",
    "\n",
    "# Plot the confusion matrix using seaborn\n",
    "class_names = ['COVID-19', 'Normal', 'Pneumonia-Bacterial', 'Pneumonia-Viral']  # Adjust these based on your actual class names\n",
    "plt.figure(figsize=(8, 6))\n",
    "sns.heatmap(cm, annot=True, fmt='d', cmap='Blues', xticklabels=class_names, yticklabels=class_names)\n",
    "plt.xlabel('Predicted')\n",
    "plt.ylabel('True')\n",
    "plt.title('Confusion Matrix')\n",
    "plt.show()\n"
   ]
  }
 ],
 "metadata": {
  "kernelspec": {
   "display_name": "skripsi",
   "language": "python",
   "name": "python3"
  },
  "language_info": {
   "codemirror_mode": {
    "name": "ipython",
    "version": 3
   },
   "file_extension": ".py",
   "mimetype": "text/x-python",
   "name": "python",
   "nbconvert_exporter": "python",
   "pygments_lexer": "ipython3",
   "version": "3.10.13"
  }
 },
 "nbformat": 4,
 "nbformat_minor": 2
}
